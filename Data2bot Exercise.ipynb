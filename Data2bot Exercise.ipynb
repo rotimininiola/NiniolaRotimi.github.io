{
 "cells": [
  {
   "cell_type": "code",
   "execution_count": 4,
   "id": "f72f846b",
   "metadata": {},
   "outputs": [],
   "source": [
    "import boto3\n",
    "from botocore import UNSIGNED\n",
    "from botocore.client import Config"
   ]
  },
  {
   "cell_type": "code",
   "execution_count": 5,
   "id": "22d9fdac",
   "metadata": {},
   "outputs": [],
   "source": [
    "s3 = boto3.client('s3', config=Config(signature_version=UNSIGNED))"
   ]
  },
  {
   "cell_type": "code",
   "execution_count": 4,
   "id": "3fce285d",
   "metadata": {},
   "outputs": [],
   "source": [
    "#establish connection with bucket\n",
    "bucket_name =  \"d2b-internal-assessment-bucket\"\n",
    "response = s3.list_objects(Bucket=bucket_name, Prefix=\"orders_data\")\n"
   ]
  },
  {
   "cell_type": "code",
   "execution_count": 13,
   "id": "6255ab77",
   "metadata": {},
   "outputs": [],
   "source": [
    "#to download the orders.csv\n",
    "s3.download_file(bucket_name, \"orders_data/orders.csv\", \"orders.csv\")"
   ]
  },
  {
   "cell_type": "code",
   "execution_count": 27,
   "id": "9ead2d7f",
   "metadata": {},
   "outputs": [],
   "source": [
    "#check data\n",
    "s3.download_file(bucket_name, \"orders_data/shipments_deliveries.csv\", \"shipments_deliveries.csv\")"
   ]
  },
  {
   "cell_type": "code",
   "execution_count": 19,
   "id": "b1290e92",
   "metadata": {},
   "outputs": [],
   "source": [
    "#check data\n",
    "s3.download_file(bucket_name, \"orders_data/reviews.csv\", \"reviews.csv\")"
   ]
  },
  {
   "cell_type": "code",
   "execution_count": 23,
   "id": "5b9e91a5",
   "metadata": {},
   "outputs": [],
   "source": [
    "#check data\n",
    "s3.download_file(bucket_name, \"orders_data/shipment_deliveries.csv\", \"shipments_deliveries.csv\")"
   ]
  },
  {
   "cell_type": "code",
   "execution_count": 24,
   "id": "6826eb05",
   "metadata": {},
   "outputs": [
    {
     "ename": "SyntaxError",
     "evalue": "invalid syntax (2112612705.py, line 1)",
     "output_type": "error",
     "traceback": [
      "\u001b[0;36m  Input \u001b[0;32mIn [24]\u001b[0;36m\u001b[0m\n\u001b[0;31m    //file_names = [file['Key'] for file in response['Contents']]\u001b[0m\n\u001b[0m    ^\u001b[0m\n\u001b[0;31mSyntaxError\u001b[0m\u001b[0;31m:\u001b[0m invalid syntax\n"
     ]
    }
   ],
   "source": [
    "##check for list of files in aws bucket\n",
    "file_names = [file['Key'] for file in response['Contents']]"
   ]
  },
  {
   "cell_type": "code",
   "execution_count": 22,
   "id": "4727f5eb",
   "metadata": {},
   "outputs": [
    {
     "name": "stdout",
     "output_type": "stream",
     "text": [
      "orders_data/\n",
      "orders_data/analytics_export/murtodun9658/agg_public_holiday.csv\n",
      "orders_data/analytics_export/murtodun9658/agg_shipments.csv\n",
      "orders_data/analytics_export/murtodun9658/best_performing_product.csv\n",
      "orders_data/analytics_export/murtodun9658/late_shipments.csv\n",
      "orders_data/analytics_export/murtodun9658/undelivered_shipments.csv\n",
      "orders_data/orders.csv\n",
      "orders_data/reviews.csv\n",
      "orders_data/shipment_deliveries.csv\n"
     ]
    }
   ],
   "source": [
    "##get list of files\n",
    "for file_name in file_names:\n",
    "    print(file_name)"
   ]
  },
  {
   "cell_type": "code",
   "execution_count": 6,
   "id": "4dde705e",
   "metadata": {},
   "outputs": [],
   "source": [
    "#import necessary libraries\n",
    "import psycopg2\n",
    "import pandas as pd\n",
    "from sqlalchemy import create_engine\n",
    "import csv\n",
    "from datetime import datetime"
   ]
  },
  {
   "cell_type": "code",
   "execution_count": 275,
   "id": "38872a0b",
   "metadata": {},
   "outputs": [],
   "source": [
    "curs = conn.cursor()\n",
    "curs.execute(\"ROLLBACK\")\n",
    "conn.commit()"
   ]
  },
  {
   "cell_type": "code",
   "execution_count": 7,
   "id": "813d6ab8",
   "metadata": {},
   "outputs": [],
   "source": [
    "##connect to postgres database\n",
    "conn = psycopg2.connect(\n",
    "    host='d2b-internal-assessment-dwh.cxeuj0ektqdz.eu-central-1.rds.amazonaws.com',\n",
    "    port='5432',\n",
    "    dbname='d2b_assessment',\n",
    "    user='niniroti9849',\n",
    "    password='Wlaypw0N2l'\n",
    ")"
   ]
  },
  {
   "cell_type": "code",
   "execution_count": 194,
   "id": "12a8dee7",
   "metadata": {},
   "outputs": [],
   "source": [
    "#specify csv_file_path = '/Users/niniolarotimi/reviews.csv'\n",
    "csv_file_path2 = '/Users/niniolarotimi/shipments_deliveries.csv'\n",
    "csv_file_path3 = '/Users/niniolarotimi/orders.csv'"
   ]
  },
  {
   "cell_type": "code",
   "execution_count": 195,
   "id": "427ef19f",
   "metadata": {},
   "outputs": [],
   "source": [
    "#table names to load data to\n",
    "table_name = 'niniroti9849_staging.reviews'\n",
    "table_name2 = 'niniroti9849_staging.shipments_deliveries'\n",
    "table_name3 = 'niniroti9849_staging.orders'"
   ]
  },
  {
   "cell_type": "code",
   "execution_count": 176,
   "id": "edde7465",
   "metadata": {},
   "outputs": [],
   "source": [
    "#establish connection\n",
    "conn = psycopg2.connect(\n",
    "   host = 'd2b-internal-assessment-dwh.cxeuj0ektqdz.eu-central-1.rds.amazonaws.com',\n",
    "   port = '5432',\n",
    "   dbname = 'd2b_assessment',\n",
    "   user = 'niniroti9849',\n",
    "   password = 'Wlaypw0N2l'\n",
    "\n",
    ")\n",
    "\n",
    "cur = conn.cursor()"
   ]
  },
  {
   "cell_type": "code",
   "execution_count": null,
   "id": "51932d4d",
   "metadata": {},
   "outputs": [],
   "source": [
    "##load downloaded file to reviews table\n",
    "with open(csv_file_path, 'r') as file:\n",
    "    # Create a CSV reader object\n",
    "    csv_reader = csv.reader(file)\n",
    "    \n",
    "    # Skip the header row\n",
    "    next(csv_reader)\n",
    "    \n",
    "    # Iterate over each row in the CSV file\n",
    "    for row in csv_reader:\n",
    "        # Extract the values from the row\n",
    "        review = row[0]  # Assuming the review column is the first column in the CSV file\n",
    "        product_id = row[1]  # Assuming the other column is the second column in the CSV file\n",
    "        \n",
    "        # Construct the SQL INSERT statement\n",
    "        insert_query = f\"INSERT INTO {table_name} (review, product_id) VALUES (%s, %s)\"\n",
    "        \n",
    "        # Execute the INSERT statement with the current row data\n",
    "        cur.execute(insert_query, (review, product_id))\n",
    "        \n"
   ]
  },
  {
   "cell_type": "code",
   "execution_count": null,
   "id": "cc79998c",
   "metadata": {},
   "outputs": [],
   "source": [
    "# Commit the changes to the database\n",
    "conn.commit()"
   ]
  },
  {
   "cell_type": "code",
   "execution_count": 197,
   "id": "864ff0da",
   "metadata": {},
   "outputs": [],
   "source": [
    "##load downloaded file to shipping table in the db\n",
    "with open(csv_file_path2, 'r') as file2:\n",
    "    # Create a CSV reader object\n",
    "    csv_reader2 = csv.reader(file2)\n",
    "    \n",
    "    # Skip the header row\n",
    "    next(csv_reader2)\n",
    "    \n",
    "    # Iterate over each row in the CSV file\n",
    "    for row in csv_reader2:\n",
    "        # Extract the values from the row\n",
    "        shipment_id = row[0]\n",
    "        order_id = row[1]\n",
    "        shipment_date = row[2]\n",
    "        delivery_date = row[3]\n",
    "        \n",
    "        # Convert the date string to a date object\n",
    "        shipment_date = datetime.strptime(shipment_date, '%Y-%m-%d').date() if shipment_date else None\n",
    "        \n",
    "        # Check if the delivery_date is not empty\n",
    "        delivery_date = datetime.strptime(delivery_date, '%Y-%m-%d').date() if delivery_date else None\n",
    "        \n",
    "        # Construct the SQL INSERT statement\n",
    "        insert_query = f\"INSERT INTO {table_name2} (shipment_id, order_id, shipment_date, delivery_date) VALUES (%s, %s, %s, %s)\"\n",
    "        \n",
    "        # Execute the INSERT statement with the current row data\n",
    "        cur.execute(insert_query, (shipment_id, order_id, shipment_date, delivery_date))\n",
    "        \n",
    "# Commit the changes to the database\n",
    "conn.commit()\n"
   ]
  },
  {
   "cell_type": "code",
   "execution_count": 202,
   "id": "a04b84db",
   "metadata": {},
   "outputs": [],
   "source": [
    "##load orders table to the db\n",
    "with open(csv_file_path3, 'r') as file3:\n",
    "    # Create a CSV reader object\n",
    "    csv_reader3 = csv.reader(file3)\n",
    "    \n",
    "    # Skip the header row\n",
    "    next(csv_reader3)\n",
    "    \n",
    "    # Iterate over each row in the CSV file\n",
    "    for row in csv_reader3:\n",
    "        # Extract the values from the row\n",
    "        order_id = row[0]\n",
    "        customer_id = row[1]\n",
    "        order_date = row[2]\n",
    "        product_id = row[3]\n",
    "        unit_price = row[4]\n",
    "        quantity = row[5]\n",
    "        total_price = row[6]\n",
    "        \n",
    "        # Convert the date string to a date object\n",
    "        order_date = datetime.strptime(order_date, '%Y-%m-%d').date() if order_date else None\n",
    "        \n",
    "        # Construct the SQL INSERT statement\n",
    "        insert_query = f\"INSERT INTO {table_name3} (order_id, customer_id, order_date, product_id, unit_price, quantity, total_price) VALUES (%s, %s, %s, %s, %s, %s, %s)\"\n",
    "        \n",
    "        # Execute the INSERT statement with the current row data\n",
    "        cur.execute(insert_query, (order_id, customer_id, order_date, product_id, unit_price, quantity, total_price))\n",
    "        \n",
    "# Commit the changes to the database\n",
    "conn.commit()"
   ]
  },
  {
   "cell_type": "code",
   "execution_count": 178,
   "id": "a3b2f128",
   "metadata": {},
   "outputs": [],
   "source": [
    "conn = psycopg2.connect(\n",
    "   host = 'd2b-internal-assessment-dwh.cxeuj0ektqdz.eu-central-1.rds.amazonaws.com',\n",
    "   port = '5432',\n",
    "   dbname = 'd2b_assessment',\n",
    "   user = 'niniroti9849',\n",
    "   password = 'Wlaypw0N2l'\n",
    "\n",
    ")\n",
    "\n",
    "cur = conn.cursor()"
   ]
  },
  {
   "cell_type": "code",
   "execution_count": 179,
   "id": "1ec81f2d",
   "metadata": {},
   "outputs": [
    {
     "name": "stdout",
     "output_type": "stream",
     "text": [
      "(20, 'April    ')\n",
      "(18, 'August   ')\n",
      "(20, 'January  ')\n",
      "(16, 'March    ')\n",
      "(12, 'November ')\n",
      "(16, 'October  ')\n"
     ]
    }
   ],
   "source": [
    "#no of orders on public holidays in the past year\n",
    "\n",
    "cur.execute('''\n",
    "    SELECT COUNT(a.order_id) AS order_count, TO_CHAR(b.calendar_dt, 'Month') AS month\n",
    "    FROM niniroti9849_staging.orders a\n",
    "    LEFT JOIN if_common.dim_dates b ON a.order_date = b.calendar_dt\n",
    "    WHERE (b.day_of_the_week_num IN (1, 2, 3, 4, 5) AND b.working_day = 'false')\n",
    "    AND DATE_PART('year', b.calendar_dt) = '2021'\n",
    "    GROUP BY TO_CHAR(b.calendar_dt, 'Month')\n",
    "''')\n",
    "\n",
    "\n",
    "rows = cur.fetchall()\n",
    "# Iterate over the rows and print the data\n",
    "for row in rows:\n",
    "    print(row)"
   ]
  },
  {
   "cell_type": "code",
   "execution_count": 189,
   "id": "bb8c54d5",
   "metadata": {},
   "outputs": [],
   "source": [
    "curs = conn.cursor()\n",
    "curs.execute(\"ROLLBACK\")\n",
    "conn.commit()"
   ]
  },
  {
   "cell_type": "code",
   "execution_count": 229,
   "id": "f40d44b6",
   "metadata": {},
   "outputs": [
    {
     "name": "stdout",
     "output_type": "stream",
     "text": [
      "(175,)\n"
     ]
    }
   ],
   "source": [
    "#total number of late shipments\n",
    "\n",
    "cur.execute('''\n",
    "select count(a.order_id)\t\n",
    "from niniroti9849_staging.orders a\n",
    "left join niniroti9849_staging.shipments_deliveries b on a.order_id = b.order_id\n",
    "where DATE_PART('day', AGE(b.shipment_date, a.order_date)) >= 6\n",
    "and delivery_date is null\n",
    "''')\n",
    "\n",
    "rows = cur.fetchall()\n",
    "# Iterate over the rows and print the data\n",
    "for row in rows:\n",
    "    print(row)"
   ]
  },
  {
   "cell_type": "code",
   "execution_count": 234,
   "id": "08b20c9c",
   "metadata": {},
   "outputs": [
    {
     "name": "stdout",
     "output_type": "stream",
     "text": [
      "(6586,)\n"
     ]
    }
   ],
   "source": [
    "#total number of undelivered shipments\n",
    "\n",
    "cur.execute('''\n",
    "select count(a.order_id)\t\n",
    "from niniroti9849_staging.orders a\n",
    "left join niniroti9849_staging.shipments_deliveries b on a.order_id = b.order_id\n",
    "--where DATE_PART('day', AGE('2022-09-05', a.order_date)) >= 15\n",
    "where delivery_date is null\n",
    "and b.shipment_date is null\n",
    "AND '2022-09-05' >= (order_date + INTERVAL '15 days');\n",
    "''')\n",
    "\n",
    "rows = cur.fetchall()\n",
    "# Iterate over the rows and print the data\n",
    "for row in rows:\n",
    "    print(row)"
   ]
  },
  {
   "cell_type": "code",
   "execution_count": 199,
   "id": "106af897",
   "metadata": {},
   "outputs": [],
   "source": [
    "#define connection\n",
    "conn_write = psycopg2.connect(\n",
    "   host = 'd2b-internal-assessment-dwh.cxeuj0ektqdz.eu-central-1.rds.amazonaws.com',\n",
    "   port = '5432',\n",
    "   dbname = 'd2b_assessment',\n",
    "   user = 'niniroti9849',\n",
    "   password = 'Wlaypw0N2l'\n",
    "\n",
    ")"
   ]
  },
  {
   "cell_type": "code",
   "execution_count": 200,
   "id": "666b89c1",
   "metadata": {},
   "outputs": [],
   "source": [
    "sql_query1 =  \"\"\"\n",
    "select count(a.order_id) as orders\n",
    "from niniroti9849_staging.orders a\n",
    "left join niniroti9849_staging.shipments_deliveries b on a.order_id = b.order_id\n",
    "where DATE_PART('day', AGE(b.shipment_date, a.order_date)) >= 6\n",
    "and delivery_date is null\n",
    " \"\"\"\n",
    "\n"
   ]
  },
  {
   "cell_type": "code",
   "execution_count": 201,
   "id": "9acce472",
   "metadata": {},
   "outputs": [],
   "source": [
    "sql_query2 = \"\"\"\n",
    "SELECT COUNT(a.order_id) AS order_count\n",
    "FROM niniroti9849_staging.orders a\n",
    "LEFT JOIN niniroti9849_staging.shipments_deliveries b ON a.order_id = b.order_id\n",
    "WHERE delivery_date IS NULL\n",
    "AND b.shipment_date IS NULL\n",
    "AND '2022-09-05' >= (a.order_date + INTERVAL '15 days')\n",
    "\"\"\"\n"
   ]
  },
  {
   "cell_type": "code",
   "execution_count": 202,
   "id": "06f310fd",
   "metadata": {},
   "outputs": [],
   "source": [
    "insert_query = f\"\"\"\n",
    "    INSERT INTO niniroti9849_analytics.agg_shipments (ingestion_date, tt_late_shipments, tt_undelivered_items)\n",
    "    SELECT \n",
    "         CURRENT_DATE, \n",
    "        (SELECT orders FROM ({sql_query1}) AS subquery1),\n",
    "        (SELECT order_count FROM ({sql_query2}) AS subquery2)\n",
    "        \n",
    "\"\"\""
   ]
  },
  {
   "cell_type": "code",
   "execution_count": 204,
   "id": "1c8e97f5",
   "metadata": {},
   "outputs": [],
   "source": [
    "##write all columns to agg shipments table\n",
    "\n",
    "\n",
    "cur.execute(insert_query)\n",
    "\n",
    "# Commit the changes to the database\n",
    "conn.commit()"
   ]
  },
  {
   "cell_type": "code",
   "execution_count": 90,
   "id": "1e6add8a",
   "metadata": {},
   "outputs": [],
   "source": [
    "conn = psycopg2.connect(\n",
    "   host = 'd2b-internal-assessment-dwh.cxeuj0ektqdz.eu-central-1.rds.amazonaws.com',\n",
    "   port = '5432',\n",
    "   dbname = 'd2b_assessment',\n",
    "   user = 'niniroti9849',\n",
    "   password = 'Wlaypw0N2l'\n",
    "\n",
    ")\n",
    "\n",
    "cur = conn.cursor()"
   ]
  },
  {
   "cell_type": "code",
   "execution_count": 91,
   "id": "1c692879",
   "metadata": {},
   "outputs": [],
   "source": [
    "#insert best performing product query into niniroti9849_analytics.best_performing_product_new; kindly note that existing table created had a bit of issue so this data was loaded to table 'niniroti9849_analytics.best_performing_product_new'\n",
    "\n",
    "insert_query = f\"\"\"\n",
    "INSERT INTO niniroti9849_analytics.best_performing_product_new(\n",
    "  ingestion_date, \n",
    "  product_name, \n",
    "  most_ordered_day,\n",
    "  is_public_holiday,\n",
    "  tt_review_points,\n",
    "  pct_one_star_review, \n",
    "  pct_two_star_review, \n",
    "  pct_three_star_review, \n",
    "  pct_four_star_review, \n",
    "  pct_five_star_review, \n",
    "  pct_early_shipments, \n",
    "  pct_late_shipments\n",
    ")\n",
    "SELECT\n",
    "    current_date AS ingestion_date,\n",
    "    p.product_name, \n",
    "    a.order_date AS most_ordered_day,\n",
    "\td.is_public_holiday,\n",
    "\tb.tt_review_points,\n",
    "    g.pct_one_star_review, \n",
    "    g.pct_two_star_review, \n",
    "    g.pct_three_star_review, \n",
    "    g.pct_four_star_review,\n",
    "    g.pct_five_star_review,\n",
    "    n.pct_early_shipments,\n",
    "    n.pct_late_shipments\n",
    "FROM niniroti9849_staging.orders a\n",
    "LEFT JOIN (\n",
    "    SELECT\n",
    "        z.product_id,\n",
    "        TRUNC((SUM(CASE WHEN z.shipment_status = 'Early Shipment' THEN 1 ELSE 0 END) * 100.0) / COUNT(*), 1) AS pct_early_shipments,\n",
    "        TRUNC((SUM(CASE WHEN z.shipment_status = 'Late Shipment' THEN 1 ELSE 0 END) * 100.0) / COUNT(*), 1) AS pct_late_shipments \n",
    "    FROM (\n",
    "        SELECT\n",
    "            i.product_id,\n",
    "            CASE \n",
    "                WHEN DATE_PART('day', AGE(x.shipment_date, i.order_date)) >= 6 AND x.delivery_date IS NULL THEN 'Late Shipment'\n",
    "                WHEN DATE_PART('day', AGE(x.shipment_date, i.order_date)) < 6 AND x.delivery_date IS NULL THEN 'Early Shipment'\n",
    "                ELSE 'On Time'\n",
    "            END AS shipment_status,\n",
    "            i.order_date\n",
    "        FROM\n",
    "            niniroti9849_staging.shipments_deliveries x\n",
    "        LEFT JOIN\n",
    "            niniroti9849_staging.orders i ON x.order_id = i.order_id\n",
    "    ) z\n",
    "    GROUP BY z.product_id\n",
    ") n ON CAST(n.product_id AS INTEGER) = CAST(a.product_id AS INTEGER)\n",
    "LEFT JOIN (\n",
    "    SELECT\n",
    "        product_id,\n",
    "        TRUNC((SUM(CASE WHEN review = 1 THEN 1 ELSE 0 END) * 100.0) / COUNT(*), 1) AS pct_one_star_review,\n",
    "        TRUNC((SUM(CASE WHEN review = 2 THEN 1 ELSE 0 END) * 100.0) / COUNT(*), 1) AS pct_two_star_review,\n",
    "        TRUNC((SUM(CASE WHEN review = 3 THEN 1 ELSE 0 END) * 100.0) / COUNT(*), 1) AS pct_three_star_review,\n",
    "        TRUNC((SUM(CASE WHEN review = 4 THEN 1 ELSE 0 END) * 100.0) / COUNT(*), 1) AS pct_four_star_review,\n",
    "        TRUNC((SUM(CASE WHEN review = 5 THEN 1 ELSE 0 END) * 100.0) / COUNT(*), 1) AS pct_five_star_review\n",
    "    FROM\n",
    "    niniroti9849_staging.reviews\n",
    "    GROUP BY product_id\n",
    ") g ON CAST(g.product_id AS INTEGER) = CAST(a.product_id AS INTEGER)\n",
    "LEFT JOIN if_common.dim_products p ON CAST(p.product_id AS INTEGER) = CAST(a.product_id AS INTEGER)\n",
    "Left join(select calendar_dt,case when day_of_the_week_num IN (1, 2, 3, 4, 5) AND working_day = 'false' \n",
    "\t\tthen TRUE ELSE FALSE END AS is_public_holiday\n",
    "        from if_common.dim_dates)d on d.calendar_dt = a.order_date\n",
    "LEFT JOIN (\n",
    "    SELECT\n",
    "        product_id,\n",
    "        COUNT(review) AS no_of_reviews,\n",
    "\t    CAST(SUM(review) AS INTEGER) AS tt_review_points\n",
    "\t    \n",
    "    FROM\n",
    "        niniroti9849_staging.reviews\n",
    "    GROUP BY product_id\n",
    "    ORDER BY no_of_reviews DESC\n",
    "    LIMIT 1\n",
    ") b ON CAST(a.product_id AS INTEGER) = CAST(b.product_id AS INTEGER)\n",
    "WHERE\n",
    "    a.product_id = '23' \n",
    "    AND a.quantity = '10';\n",
    "\"\"\""
   ]
  },
  {
   "cell_type": "code",
   "execution_count": 92,
   "id": "3ed5dfde",
   "metadata": {},
   "outputs": [],
   "source": [
    "#execute query\n",
    "cur.execute(insert_query)"
   ]
  },
  {
   "cell_type": "code",
   "execution_count": 93,
   "id": "eb7f0e89",
   "metadata": {},
   "outputs": [],
   "source": [
    "# Commit the changes to the database\n",
    "conn.commit()"
   ]
  },
  {
   "cell_type": "code",
   "execution_count": 314,
   "id": "2fa5f764",
   "metadata": {},
   "outputs": [],
   "source": [
    "#create connection to database\n",
    "conn = psycopg2.connect(\n",
    "   host = 'd2b-internal-assessment-dwh.cxeuj0ektqdz.eu-central-1.rds.amazonaws.com',\n",
    "   port = '5432',\n",
    "   dbname = 'd2b_assessment',\n",
    "   user = 'niniroti9849',\n",
    "   password = 'Wlaypw0N2l'\n",
    "\n",
    ")\n",
    "\n",
    "cur = conn.cursor()"
   ]
  },
  {
   "cell_type": "code",
   "execution_count": 94,
   "id": "40075a7d",
   "metadata": {},
   "outputs": [],
   "source": [
    "sql_query = \"\"\"\n",
    "SELECT\n",
    "    current_date AS ingestion_date,\n",
    "    p.product_name, \n",
    "    a.order_date AS most_ordered_day,\n",
    "\td.is_public_holiday,\n",
    "\tb.total_review_points,\n",
    "    g.pct_one_star_review, \n",
    "    g.pct_two_star_review, \n",
    "    g.pct_three_star_review, \n",
    "    g.pct_four_star_review,\n",
    "    g.pct_five_star_review,\n",
    "    n.pct_early_shipments,\n",
    "    n.pct_late_shipments\n",
    "FROM niniroti9849_staging.orders a\n",
    "LEFT JOIN (SELECT z.product_id,\n",
    "        TRUNC((SUM(CASE WHEN z.shipment_status = 'Early Shipment' THEN 1 ELSE 0 END) * 100.0) / COUNT(*), 1) AS pct_early_shipments,\n",
    "        TRUNC((SUM(CASE WHEN z.shipment_status = 'Late Shipment' THEN 1 ELSE 0 END) * 100.0) / COUNT(*), 1) AS pct_late_shipments \n",
    "    FROM (\n",
    "        SELECT i.product_id,\n",
    "            CASE \n",
    "                WHEN DATE_PART('day', AGE(x.shipment_date, i.order_date)) >= 6 AND x.delivery_date IS NULL THEN 'Late Shipment'\n",
    "                WHEN DATE_PART('day', AGE(x.shipment_date, i.order_date)) < 6 AND x.delivery_date IS NULL THEN 'Early Shipment'\n",
    "                ELSE 'On Time'\n",
    "            END AS shipment_status,\n",
    "            i.order_date\n",
    "        FROM\n",
    "            niniroti9849_staging.shipments_deliveries x\n",
    "        LEFT JOIN\n",
    "            niniroti9849_staging.orders i ON x.order_id = i.order_id\n",
    "    ) z\n",
    "    GROUP BY z.product_id\n",
    ") n ON CAST(n.product_id AS INTEGER) = CAST(a.product_id AS INTEGER)\n",
    "LEFT JOIN (\n",
    "    SELECT\n",
    "        product_id,\n",
    "        TRUNC((SUM(CASE WHEN review = 1 THEN 1 ELSE 0 END) * 100.0) / COUNT(*), 1) AS pct_one_star_review,\n",
    "        TRUNC((SUM(CASE WHEN review = 2 THEN 1 ELSE 0 END) * 100.0) / COUNT(*), 1) AS pct_two_star_review,\n",
    "        TRUNC((SUM(CASE WHEN review = 3 THEN 1 ELSE 0 END) * 100.0) / COUNT(*), 1) AS pct_three_star_review,\n",
    "        TRUNC((SUM(CASE WHEN review = 4 THEN 1 ELSE 0 END) * 100.0) / COUNT(*), 1) AS pct_four_star_review,\n",
    "        TRUNC((SUM(CASE WHEN review = 5 THEN 1 ELSE 0 END) * 100.0) / COUNT(*), 1) AS pct_five_star_review\n",
    "    FROM\n",
    "    niniroti9849_staging.reviews\n",
    "    GROUP BY product_id\n",
    ") g ON CAST(g.product_id AS INTEGER) = CAST(a.product_id AS INTEGER)\n",
    "LEFT JOIN if_common.dim_products p ON CAST(p.product_id AS INTEGER) = CAST(a.product_id AS INTEGER)\n",
    "Left join(select calendar_dt,case when day_of_the_week_num IN (1, 2, 3, 4, 5) AND working_day = 'false' \n",
    "\t\tthen TRUE ELSE FALSE END AS is_public_holiday\n",
    "        from if_common.dim_dates)d on d.calendar_dt = a.order_date\n",
    "LEFT JOIN (\n",
    "    SELECT\n",
    "        product_id,\n",
    "        COUNT(review) AS no_of_reviews,\n",
    "\t    CAST(SUM(review) AS INTEGER) AS total_review_points\n",
    "\t    \n",
    "    FROM\n",
    "        niniroti9849_staging.reviews\n",
    "    GROUP BY product_id\n",
    "    ORDER BY no_of_reviews DESC\n",
    "    LIMIT 1\n",
    ") b ON CAST(a.product_id AS INTEGER) = CAST(b.product_id AS INTEGER)\n",
    "WHERE\n",
    "    a.product_id = '23' \n",
    "    AND a.quantity = '10';\n",
    "\"\"\""
   ]
  },
  {
   "cell_type": "code",
   "execution_count": 95,
   "id": "121b3730",
   "metadata": {},
   "outputs": [],
   "source": [
    "#execute query\n",
    "cur.execute(sql_query)"
   ]
  },
  {
   "cell_type": "code",
   "execution_count": 96,
   "id": "32a7dca5",
   "metadata": {},
   "outputs": [],
   "source": [
    "# Fetch all rows from the query result\n",
    "rows = cur.fetchall()"
   ]
  },
  {
   "cell_type": "code",
   "execution_count": 97,
   "id": "096aa744",
   "metadata": {},
   "outputs": [],
   "source": [
    "# Get the column names from the cursor description\n",
    "column_names = [desc[0] for desc in cur.description]"
   ]
  },
  {
   "cell_type": "code",
   "execution_count": 102,
   "id": "e6769e9b",
   "metadata": {},
   "outputs": [],
   "source": [
    "# Define local file path to save CSV file\n",
    "csv_file_path = '/Users/niniolarotimi/best_performing_product.csv'\n",
    "\n",
    "# Write query result to CSV file, write both rows and columns\n",
    "with open(csv_file_path, 'w', newline='') as csv_file:\n",
    "    csv_writer = csv.writer(csv_file)   \n",
    "    csv_writer.writerow(column_names)     \n",
    "    csv_writer.writerows(rows)"
   ]
  },
  {
   "cell_type": "code",
   "execution_count": 72,
   "id": "b6776870",
   "metadata": {},
   "outputs": [],
   "source": [
    "# Create an S3 client\n",
    "s3 = boto3.client('s3', config=Config(signature_version=UNSIGNED))"
   ]
  },
  {
   "cell_type": "code",
   "execution_count": 103,
   "id": "8119e9ba",
   "metadata": {},
   "outputs": [],
   "source": [
    "#Send csv file to s3 bucket. \n",
    "#Specify the folder path in the S3 bucket\n",
    "\n",
    "s3_bucket = 'd2b-internal-assessment-bucket'\n",
    "s3_folder = 'analytics_export/niniroti9849'  \n",
    "\n",
    "# Combine the folder path and file name for the S3 key\n",
    "s3_key = s3_folder + 'best_performing_product.csv'\n",
    "\n",
    "# Upload CSV file to AWS S3\n",
    "s3.upload_file(csv_file_path, s3_bucket, s3_key)"
   ]
  },
  {
   "cell_type": "code",
   "execution_count": 206,
   "id": "76069f4e",
   "metadata": {},
   "outputs": [],
   "source": [
    "csv_file_path = '/Users/niniolarotimi/agg_shipments.csv'"
   ]
  },
  {
   "cell_type": "code",
   "execution_count": 207,
   "id": "411ab990",
   "metadata": {},
   "outputs": [],
   "source": [
    "# Create an S3 client\n",
    "s3 = boto3.client('s3', config=Config(signature_version=UNSIGNED))"
   ]
  },
  {
   "cell_type": "code",
   "execution_count": 208,
   "id": "5f866d2e",
   "metadata": {},
   "outputs": [],
   "source": [
    "#Send csv file to s3 bucket. \n",
    "#Specify the folder path in the S3 bucket\n",
    "\n",
    "s3_bucket = 'd2b-internal-assessment-bucket'\n",
    "s3_folder = 'analytics_export/niniroti9849'  \n",
    "\n",
    "# Combine the folder path and file name for the S3 key\n",
    "s3_key = s3_folder + 'best_performing_product.csv'\n",
    "\n",
    "# Upload CSV file to AWS S3\n",
    "s3.upload_file(csv_file_path, s3_bucket, s3_key)"
   ]
  },
  {
   "cell_type": "code",
   "execution_count": 209,
   "id": "cd8f3075",
   "metadata": {},
   "outputs": [],
   "source": [
    "csv_file_path = '/Users/niniolarotimi/agg_public_holiday.csv'"
   ]
  },
  {
   "cell_type": "code",
   "execution_count": 210,
   "id": "05d29f2c",
   "metadata": {},
   "outputs": [],
   "source": [
    "#Send csv file to s3 bucket. \n",
    "#Specify the folder path in the S3 bucket\n",
    "\n",
    "s3_bucket = 'd2b-internal-assessment-bucket'\n",
    "s3_folder = 'analytics_export/niniroti9849'  \n",
    "\n",
    "# Combine the folder path and file name for the S3 key\n",
    "s3_key = s3_folder + 'agg_public_holiday.csv'\n",
    "\n",
    "# Upload CSV file to AWS S3\n",
    "s3.upload_file(csv_file_path, s3_bucket, s3_key)"
   ]
  },
  {
   "cell_type": "code",
   "execution_count": null,
   "id": "297f31e0",
   "metadata": {},
   "outputs": [],
   "source": []
  }
 ],
 "metadata": {
  "kernelspec": {
   "display_name": "Python 3 (ipykernel)",
   "language": "python",
   "name": "python3"
  },
  "language_info": {
   "codemirror_mode": {
    "name": "ipython",
    "version": 3
   },
   "file_extension": ".py",
   "mimetype": "text/x-python",
   "name": "python",
   "nbconvert_exporter": "python",
   "pygments_lexer": "ipython3",
   "version": "3.9.12"
  }
 },
 "nbformat": 4,
 "nbformat_minor": 5
}
